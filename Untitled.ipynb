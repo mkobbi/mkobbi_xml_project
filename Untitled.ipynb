{
 "cells": [
  {
   "cell_type": "code",
   "execution_count": 1,
   "metadata": {},
   "outputs": [],
   "source": [
    "f = open('example.xml','r')"
   ]
  },
  {
   "cell_type": "code",
   "execution_count": 2,
   "metadata": {
    "collapsed": true
   },
   "outputs": [],
   "source": [
    "def formater_xml(fichier):\n",
    "    chaine = fichier.read()\n",
    "    t = chaine.split(\"><\")\n",
    "    t[0] = t[0][1]\n",
    "    t[-1] = t[-1][0] + t[-1][1]\n",
    "    l = []\n",
    "    for n in t:\n",
    "        if len(n)==1:\n",
    "            l.append([0, n])\n",
    "        else:\n",
    "            l.append([1,n[1]])\n",
    "    return l"
   ]
  },
  {
   "cell_type": "code",
   "execution_count": 3,
   "metadata": {},
   "outputs": [
    {
     "name": "stdout",
     "output_type": "stream",
     "text": [
      "[[0, 'a'], [0, 'b'], [1, 'b'], [0, 'c'], [1, 'c'], [0, 'd'], [1, 'd'], [1, 'a']]\n",
      "well-formed\n"
     ]
    }
   ],
   "source": [
    "from Stack import Stack\n",
    "def verifier_bien_forme(xml):\n",
    "    liste = formater_xml(xml)\n",
    "    print(liste)\n",
    "    pile = Stack()\n",
    "    if (liste[0][1] not in ['&', '<', '>', \"'\", '\"']):\n",
    "        pile.push(liste[0][1])\n",
    "    else:\n",
    "        print(liste[0], \"1er cas\")\n",
    "        print('not well-formed')\n",
    "        return\n",
    "    path = []\n",
    "    for elt in range(1, len(liste)):\n",
    "        if liste[elt][0] == 0:\n",
    "            if pile.isEmpty():\n",
    "                print(liste[elt], \"2eme cas\")\n",
    "                print('not well-formed')\n",
    "                return\n",
    "            pile.push(liste[elt][1])\n",
    "        else:\n",
    "            if liste[elt][1] != pile.peek():\n",
    "                print(liste[elt], \"3eme cas\")\n",
    "                print('not well-formed')\n",
    "                return\n",
    "            _ = pile.pop()\n",
    "    print('well-formed')\n",
    "verifier_bien_forme(f)"
   ]
  },
  {
   "cell_type": "code",
   "execution_count": null,
   "metadata": {
    "collapsed": true
   },
   "outputs": [],
   "source": []
  }
 ],
 "metadata": {
  "kernelspec": {
   "display_name": "Python 2",
   "language": "python",
   "name": "python2"
  },
  "language_info": {
   "codemirror_mode": {
    "name": "ipython",
    "version": 2
   },
   "file_extension": ".py",
   "mimetype": "text/x-python",
   "name": "python",
   "nbconvert_exporter": "python",
   "pygments_lexer": "ipython2",
   "version": "2.7.13"
  }
 },
 "nbformat": 4,
 "nbformat_minor": 2
}
