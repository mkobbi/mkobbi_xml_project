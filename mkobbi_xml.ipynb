{
 "cells": [
  {
   "cell_type": "code",
   "execution_count": 2,
   "metadata": {},
   "outputs": [],
   "source": [
    "import networkx as nx\n",
    "import numpy as np\n",
    "import matplotlib.pyplot as plt\n",
    "#import pygraphviz as pgv\n",
    "from collections import defaultdict\n",
    "### Python program to convert infix expression to postfix"
   ]
  },
  {
   "cell_type": "code",
   "execution_count": 3,
   "metadata": {},
   "outputs": [],
   "source": [
    "# Class to convert the expression\n",
    "class Conversion:\n",
    "     \n",
    "    # Constructor to initialize the class variables\n",
    "    def __init__(self, capacity, expression):\n",
    "        self.top = -1\n",
    "        self.capacity = capacity\n",
    "        # This array is used a stack \n",
    "        self.array = []\n",
    "        # Precedence setting\n",
    "        self.output = []\n",
    "        self.precedence = { '(': 1,'|': 2, '.': 3, '?': 4,'*': 4,'+': 4,'^': 5}\n",
    "        self.expression = expression\n",
    "        self.postfix = \"\"\n",
    "        self.graph = nx.DiGraph()\n",
    "        self.values={}\n",
    "        self.edge_dict = defaultdict(set)\n",
    "        self.root = -1\n",
    "        self.last_leaf = {0:0}\n",
    "        self.l = set()\n",
    "        self.p = set()\n",
    "        self.d = set()\n",
    "        self.f = set()\n",
    "     \n",
    "    # check if the stack is empty\n",
    "    def isEmpty(self):\n",
    "        return True if self.top == -1 else False\n",
    "     \n",
    "    # Return the value of the top of the stack\n",
    "    def peek(self):\n",
    "        return self.array[-1]\n",
    "     \n",
    "    # Pop the element from the stack\n",
    "    def pop(self):\n",
    "        if not self.isEmpty():\n",
    "            self.top -= 1\n",
    "            return self.array.pop()\n",
    "        else:\n",
    "            return \"$\"\n",
    "     \n",
    "    # Push the element to the stack\n",
    "    def push(self, op):\n",
    "        self.top += 1\n",
    "        self.array.append(op) \n",
    " \n",
    "    # A utility function to check is the given character\n",
    "    # is operand \n",
    "    def isOperand(self, ch):\n",
    "        return ch.isalpha() or ch=='_'\n",
    " \n",
    "    # Check if the precedence of operator is strictly\n",
    "    # less than top of stack or not\n",
    "    def notGreater(self, i):\n",
    "        try:\n",
    "            a = self.precedence[i]\n",
    "            b = self.precedence[self.peek()]\n",
    "            return True if a  <= b else False\n",
    "        except KeyError: \n",
    "            return False\n",
    "             \n",
    "    # The main function that converts given infix expression\n",
    "    # to postfix expression\n",
    "    def infixToPostfix(self):\n",
    "         \n",
    "        # Iterate over the expression for conversion\n",
    "        for i in self.expression:\n",
    "            # If the character is an operand, \n",
    "            # add it to output\n",
    "            if self.isOperand(i):\n",
    "                self.output.append(i)\n",
    "             \n",
    "            # If the character is an '(', push it to stack\n",
    "            elif i  == '(':\n",
    "                self.push(i)\n",
    " \n",
    "            # If the scanned character is an ')', pop and \n",
    "            # output from the stack until and '(' is found\n",
    "            elif i == ')':\n",
    "                while( (not self.isEmpty()) and self.peek() != '('):\n",
    "                    a = self.pop()\n",
    "                    self.output.append(a)\n",
    "                if (not self.isEmpty() and self.peek() != '('):\n",
    "                    return -1\n",
    "                else:\n",
    "                    self.pop()\n",
    " \n",
    "            # An operator is encountered\n",
    "            else:\n",
    "                while(not self.isEmpty() and self.notGreater(i)):\n",
    "                    self.output.append(self.pop())\n",
    "                self.push(i)\n",
    "  \n",
    "        # pop all the operator from the stack\n",
    "        while not self.isEmpty():\n",
    "            self.output.append(self.pop())\n",
    " \n",
    "        self.postfix = \"\".join(self.output)\n",
    "    \n",
    "    def constructGraph(self):\n",
    "        #print (self.postfix[0])\n",
    "        del self.array[:]\n",
    "        self.top = -1\n",
    "        i = 0\n",
    "        node_id = 0\n",
    "        self.graph.add_node(node_id,value=self.postfix[i])\n",
    "        self.push((node_id,self.postfix[i]))\n",
    "        #self.powerset.add(self.postfix[i])\n",
    "        self.values[node_id]=self.graph.nodes()[node_id]['value']\n",
    "        while (not self.isEmpty() and i != len(self.postfix) - 1):\n",
    "            for i in range(1, len(self.postfix)):\n",
    "                #print(self.array)\n",
    "                if (self.postfix[i].isalpha() or self.postfix[i]=='_'):\n",
    "                    node_id = node_id +1\n",
    "                    self.push((node_id,self.postfix[i]))\n",
    "                    #self.powerset.add(self.postfix[i])\n",
    "                    self.graph.add_node(node_id,value=self.postfix[i])\n",
    "                    self.values[node_id]=self.graph.nodes()[node_id]['value']\n",
    "                elif (len(self.array)==1 and self.postfix[i] in ['+', '*', '?']):\n",
    "                    left = self.pop()\n",
    "                    node_id = node_id + 1\n",
    "                    right = (node_id, self.postfix[i])\n",
    "                    self.graph.add_node(node_id, value=self.postfix[i])\n",
    "                    self.values[node_id]=self.graph.nodes()[node_id]['value']\n",
    "                    node_id = node_id + 1\n",
    "                    parent = (node_id,'.')\n",
    "                    self.graph.add_node(node_id, value='.')\n",
    "                    self.values[node_id]=self.graph.nodes()[node_id]['value']\n",
    "                    self.push(parent)\n",
    "                    self.graph.add_edges_from([(parent[0], left[0]),(parent[0], right[0])])\n",
    "                else:\n",
    "                    right = self.pop()\n",
    "                    left = self.pop()\n",
    "                    node_id = node_id + 1\n",
    "                    parent = (node_id,self.postfix[i])\n",
    "                    self.graph.add_node(node_id, value=parent[1])\n",
    "                    self.values[node_id]=self.graph.nodes()[node_id]['value']\n",
    "                    self.push(parent)\n",
    "                    self.graph.add_edges_from([(parent[0], left[0]),(parent[0], right[0])])\n",
    "        A = nx.nx_agraph.to_agraph(self.graph)\n",
    "        pos = nx.nx_agraph.graphviz_layout(self.graph, prog='dot')\n",
    "        A.layout('dot')\n",
    "        nx.draw(G=self.graph, pos=pos, labels=self.values, with_labels=True, arrows=True, node_color='y', node_size=1000)\n",
    "        plt.show()\n",
    "        #print(self.values)\n",
    "    def set_edge_dict(self):\n",
    "        self.edge_dict = {k:set() for k in list(self.graph.nodes())}\n",
    "        for k,v in self.graph.edges:\n",
    "            self.edge_dict[k].add(v)\n",
    "        self.edge_dict = dict(self.edge_dict)\n",
    "    def set_root(self):\n",
    "        lst = [x[1] for x in self.graph.edges]\n",
    "        #print(set(lst))\n",
    "        self.root = list(set(obj.graph.nodes).symmetric_difference(set(lst)))[0]\n",
    "    def dfs_rec(self, start, path=[]):\n",
    "        path = path + [start]\n",
    "        for node in self.edge_dict[start]:\n",
    "            if not node in path:\n",
    "                path = self.dfs_rec(node, path)\n",
    "        node = start\n",
    "        #print(\"Exiting node \", node)\n",
    "        if (self.values[node] in ['?', '*']):\n",
    "            self.l[node] = True\n",
    "        elif (self.values[node] in ['.', '+'] and len(self.edge_dict[node])!=0):\n",
    "            lista = list(self.edge_dict[node])\n",
    "            left = self.l[lista[0]]\n",
    "            right = self.l[lista[1]]\n",
    "            self.l[node] = left and right\n",
    "        return path\n",
    "    \n",
    "    def set_p(self, start, path=[]):\n",
    "        path = path + [start]\n",
    "        #last_leaf=0\n",
    "        for node in self.edge_dict[start]:\n",
    "            if not node in path:\n",
    "                if len(self.edge_dict[node]) != 0:\n",
    "                    lista = list(self.edge_dict[node])\n",
    "                    left = self.l[lista[0]]\n",
    "                    right = self.l[lista[1]]\n",
    "                    path = self.set_p(node, path) or    \n",
    "        node = start\n",
    "        return path\n",
    "    \n",
    "    def set_last_leaf(self):\n",
    "        for node in (self.graph.nodes()):\n",
    "            if (len(self.edge_dict[node])==0):\n",
    "                self.last_leaf[node] = node\n",
    "            else:\n",
    "                self.last_leaf[node] = self.last_leaf[node-1]\n",
    "        print(self.last_leaf)"
   ]
  },
  {
   "cell_type": "code",
   "execution_count": 19,
   "metadata": {},
   "outputs": [
    {
     "name": "stdout",
     "output_type": "stream",
     "text": [
      "ab+?c*?d?*\n"
     ]
    },
    {
     "data": {
      "image/png": "[encoded data removed]",
      "text/plain": [
       "<matplotlib.figure.Figure at 0x7f776c608250>"
      ]
     },
     "metadata": {},
     "output_type": "display_data"
    },
    {
     "name": "stdout",
     "output_type": "stream",
     "text": [
      "set([0, 1, 2, 3, 4, 5, 6, 7, 8, 9, 10, 11])\n",
      "(((a+b?)*c?)d?)*\n"
     ]
    },
    {
     "data": {
      "text/plain": [
       "[(0, False, 'a'),\n",
       " (1, False, 'b'),\n",
       " (2, False, '+'),\n",
       " (3, True, '?'),\n",
       " (4, False, '.'),\n",
       " (5, False, 'c'),\n",
       " (6, True, '*'),\n",
       " (7, True, '?'),\n",
       " (8, True, '.'),\n",
       " (9, False, 'd'),\n",
       " (10, True, '?'),\n",
       " (11, True, '*'),\n",
       " (12, True, '.')]"
      ]
     },
     "execution_count": 19,
     "metadata": {},
     "output_type": "execute_result"
    }
   ],
   "source": [
    "# Driver program to test above function\n",
    "#exp = \"(((a)+(b)*)*c?)*(d*e+f.g)*(h+i+j.l)k?\"\n",
    "exp = \"(((a+b?)*c?)d?)*\"\n",
    "obj = Conversion(len(exp), exp)\n",
    "obj.infixToPostfix()\n",
    "print(obj.postfix)\n",
    "obj.constructGraph()\n",
    "obj.set_edge_dict()\n",
    "obj.set_root()\n",
    "obj.l= {k:False for k in list(obj.graph.nodes())}\n",
    "#obj.p= {k:set() for k in list(obj.graph.nodes())}\n",
    "# #print(obj.l)\n",
    "# print(obj.values)\n",
    "obj.dfs_rec(obj.root)\n",
    "# obj.set_p(obj.root)\n",
    "print(exp)\n",
    "[(k,obj.l[k], obj.values[k]) for k in list(obj.graph.nodes())]"
   ]
  },
  {
   "cell_type": "code",
   "execution_count": null,
   "metadata": {},
   "outputs": [
    {
     "name": "stdout",
     "output_type": "stream",
     "text": [
      "abc?d*?.\n"
     ]
    }
   ],
   "source": [
    "#print(nx.is_tree(self.graph))\n",
    "#T = nx.tree(self.graph)\n",
    "#pos = nx._layout(self.graph)\n",
    "#nx.draw_networkx_nodes(G=self.graph, pos=pos, node_size = 500)\n",
    "#nx.draw_networkx_labels(G=self.graph, pos=pos)\n",
    "#nx.draw_networkx_edge_labels(G=self.graph, pos=pos)\n",
    "#nx.draw_networkx_edges(G=self.graph, pos=pos,edgelist=self.graph.edges(), arrows=True)\n",
    "#nx.write_dot(self.graph, 'test.dot')\n",
    "#for x in range(len(self.graph.nodes())):\n",
    "#    self.values[x]=self.graph.nodes()[x]['value']\n",
    "#     def getL(self, chaine) :\n",
    "# if chaine == '':\n",
    "#     self.l.add({chaine: 1})\n",
    "# elif len(chaine)==1 and chaine[0].isalpha():\n",
    "#     self.l.add({chaine: None})\n",
    "# elif chaine.index('.')"
   ]
  },
  {
   "cell_type": "code",
   "execution_count": 4,
   "metadata": {},
   "outputs": [
    {
     "data": {
      "text/plain": [
       "['a']"
      ]
     },
     "execution_count": 4,
     "metadata": {},
     "output_type": "execute_result"
    }
   ],
   "source": [
    "list(obj.values[0])"
   ]
  },
  {
   "cell_type": "code",
   "execution_count": null,
   "metadata": {
    "collapsed": true
   },
   "outputs": [],
   "source": [
    ""
   ]
  }
 ],
 "metadata": {
  "kernelspec": {
   "display_name": "Python 2",
   "language": "python",
   "name": "python2"
  },
  "language_info": {
   "codemirror_mode": {
    "name": "ipython",
    "version": 2.0
   },
   "file_extension": ".py",
   "mimetype": "text/x-python",
   "name": "python",
   "nbconvert_exporter": "python",
   "pygments_lexer": "ipython2",
   "version": "2.7.13"
  }
 },
 "nbformat": 4,
 "nbformat_minor": 0
}